{
  "cells": [
    {
      "cell_type": "markdown",
      "metadata": {
        "id": "view-in-github",
        "colab_type": "text"
      },
      "source": [
        "<a href=\"https://colab.research.google.com/github/Monseiursleec/https-github.com-calistus-igwilo-nitda-blockchain-scholarship/blob/main/Workshop_PVWatts/Workshop_PVWatts.ipynb\" target=\"_parent\"><img src=\"https://colab.research.google.com/assets/colab-badge.svg\" alt=\"Open In Colab\"/></a>"
      ]
    },
    {
      "cell_type": "markdown",
      "metadata": {
        "id": "zMPA2UfT9yvY"
      },
      "source": [
        "\n",
        "#### &nbsp;&nbsp;&nbsp;&nbsp;&nbsp;&nbsp;&nbsp;&nbsp;&nbsp;&nbsp;&nbsp;&nbsp;&nbsp;&nbsp;&nbsp;&nbsp;&nbsp;&nbsp;&nbsp;&nbsp;&nbsp;&nbsp;&nbsp;&nbsp;&nbsp;&nbsp;&nbsp;&nbsp;&nbsp;&nbsp;&nbsp;&nbsp;&nbsp;&nbsp;&nbsp;&nbsp;&nbsp;&nbsp;&nbsp;&nbsp;&nbsp;&nbsp;&nbsp;&nbsp;&nbsp;&nbsp;&nbsp;&nbsp;&nbsp;&nbsp;&nbsp;&nbsp;&nbsp;&nbsp;&nbsp;&nbsp;&nbsp;&nbsp;&nbsp;&nbsp;🐍Python Refresher for Sustainable Energy Management Module\n",
        "#### &nbsp;&nbsp;&nbsp;&nbsp;&nbsp;&nbsp;&nbsp;&nbsp;&nbsp;&nbsp;&nbsp;&nbsp;&nbsp;&nbsp;&nbsp;&nbsp;&nbsp;&nbsp;&nbsp;&nbsp;&nbsp;&nbsp;&nbsp;&nbsp;&nbsp;&nbsp;&nbsp;&nbsp;&nbsp;&nbsp;&nbsp;&nbsp;&nbsp;&nbsp;&nbsp;&nbsp;&nbsp;&nbsp;&nbsp;&nbsp;&nbsp;&nbsp;&nbsp;&nbsp;&nbsp;&nbsp;&nbsp;&nbsp;&nbsp;&nbsp;&nbsp;&nbsp;&nbsp;&nbsp;&nbsp;&nbsp;&nbsp;&nbsp;&nbsp;&nbsp;&nbsp;&nbsp;&nbsp;&nbsp;&nbsp;&nbsp;&nbsp;&nbsp;&nbsp;&nbsp;&nbsp;&nbsp;&nbsp;&nbsp;&nbsp;&nbsp;&nbsp;&nbsp;&nbsp;&nbsp;&nbsp;&nbsp;&nbsp;&nbsp;&nbsp;&nbsp;&nbsp;&nbsp;&nbsp;&nbsp;🎓Nottingham Trent University\n",
        "______________________________________________________________________________________________________"
      ]
    },
    {
      "cell_type": "markdown",
      "metadata": {
        "id": "pCraoJx39yvd"
      },
      "source": [
        "## Workshop PVWatts"
      ]
    },
    {
      "cell_type": "markdown",
      "metadata": {
        "id": "YOZL3IGR9yve"
      },
      "source": [
        "## Outline\n",
        "- PVWatts Website\n",
        "- How to use PVWatts API\n",
        "_______________________________________________________________________________________________________________________________________________________"
      ]
    },
    {
      "cell_type": "markdown",
      "metadata": {
        "id": "AN4mBO0L9yve"
      },
      "source": [
        "&nbsp;&nbsp;&nbsp;&nbsp;&nbsp;&nbsp;&nbsp;&nbsp;&nbsp;&nbsp;&nbsp;&nbsp;&nbsp;&nbsp;&nbsp;&nbsp;&nbsp;&nbsp;&nbsp;&nbsp;&nbsp;&nbsp;&nbsp;&nbsp;&nbsp;&nbsp;&nbsp;&nbsp;&nbsp;&nbsp;&nbsp;&nbsp;&nbsp;&nbsp;&nbsp;&nbsp;&nbsp;&nbsp;&nbsp;&nbsp;&nbsp;&nbsp;&nbsp;&nbsp;&nbsp;&nbsp;&nbsp;&nbsp;&nbsp;&nbsp;&nbsp;&nbsp;&nbsp;&nbsp;![image.png](attachment:18309078-ee04-40ff-95f2-db6e37b48cff.png)"
      ]
    },
    {
      "cell_type": "markdown",
      "metadata": {
        "id": "dGPS4lSK9yve"
      },
      "source": [
        "## PVWatts Website"
      ]
    },
    {
      "cell_type": "markdown",
      "metadata": {
        "id": "6nOHqqMV9yve"
      },
      "source": [
        "PVWatts Website:\n",
        "\n",
        "- https://pvwatts.nrel.gov/index.php\n",
        "\n",
        "Provided by NREL (National Renewable Energy Laboratory) is a calculator that Estimates the energy production of grid-connected photovoltaic (PV) energy systems throughout the world. It allows homeowners, small building owners, installers and manufacturers to easily develop estimates of the performance of potential PV installations.\n",
        "\n",
        "-You can Enter your Zipcode or Address for instance NG11 8NS for clifton campus\n"
      ]
    },
    {
      "cell_type": "markdown",
      "metadata": {
        "id": "QDDDPVRY9yvf"
      },
      "source": [
        "![image.png](attachment:2c0af745-56d0-48a3-95e9-801009c7db1b.png)"
      ]
    },
    {
      "cell_type": "markdown",
      "metadata": {
        "id": "Rvd3h4dq9yvf"
      },
      "source": [
        "- Then website choose the best solar resource data"
      ]
    },
    {
      "cell_type": "markdown",
      "metadata": {
        "id": "A9s8MRoA9yvf"
      },
      "source": [
        "![image.png](attachment:3e9c48c5-6b3d-411b-b20c-28a6caf7095e.png)"
      ]
    },
    {
      "cell_type": "markdown",
      "metadata": {
        "id": "GvC1nxeF9yvf"
      },
      "source": [
        "- Then you can add your PV System data in next page"
      ]
    },
    {
      "cell_type": "markdown",
      "metadata": {
        "id": "XcPRMvAZ9yvf"
      },
      "source": [
        "![image.png](attachment:b9c576dd-5129-414a-950a-af4469ef5860.png)"
      ]
    },
    {
      "cell_type": "markdown",
      "metadata": {
        "id": "jrCElfHo9yvg"
      },
      "source": [
        "- By Clicking on **i** icon you can get more information about each parameter"
      ]
    },
    {
      "cell_type": "markdown",
      "metadata": {
        "id": "xM4S66io9yvg"
      },
      "source": [
        "- Then you can see the PV monthly and annually solar generation and Radiation"
      ]
    },
    {
      "cell_type": "markdown",
      "metadata": {
        "id": "UId9G1x59yvg"
      },
      "source": [
        "![image.png](attachment:9495c7e2-c6bb-4aef-93f1-c090235df060.png)"
      ]
    },
    {
      "cell_type": "markdown",
      "metadata": {
        "id": "AlLcOCvQ9yvg"
      },
      "source": [
        "_______________________________________________________________________________________________________________________________________________________\n",
        "## How to use PVWatts API\n",
        "### Web API:\n",
        "A Web API is a set of protocols for building and integrating application software over the web, allowing different systems to communicate with each other via HTTP requests. The Requests library in Python is commonly used to interact with Web APIs by sending HTTP requests to access or manipulate resources.\n",
        "### NREL API:\n",
        "Is a specific Web API provided by the National Renewable Energy Laboratory, offering access to a wide range of data, including solar power potential and energy efficiency, through these HTTP requests."
      ]
    },
    {
      "cell_type": "code",
      "execution_count": 1,
      "metadata": {
        "id": "xXY1OvGC9yvh",
        "outputId": "ae442c46-4f7d-4088-f535-ca60f746fc13",
        "colab": {
          "base_uri": "https://localhost:8080/"
        }
      },
      "outputs": [
        {
          "output_type": "stream",
          "name": "stdout",
          "text": [
            "Estimated annual AC energy production: 2878.735933118723 kWh\n",
            "Estimated Monthly AC energy production: [43.76018000622572, 93.65781102406042, 227.5713888306197, 372.3186512348802, 486.4073745835197, 361.6377528763971, 384.5589817845306, 420.0634916477057, 268.2717576291982, 141.2199774861396, 56.2065651986043, 23.06200081684491] kWh\n"
          ]
        }
      ],
      "source": [
        "# import request library for using API\n",
        "import requests\n",
        "\n",
        "# Define the PVWatts API URL\n",
        "url = 'https://developer.nrel.gov/api/pvwatts/v8.json'\n",
        "\n",
        "# Define your API key\n",
        "# You can create your own key from https://developer.nrel.gov/signup/\n",
        "api_key = 'HkZjfGzD5csKvFCY62BdtHYrHg3xFuNUwf3zAAFR'\n",
        "\n",
        "# Define the parameters for the PVWatts API request\n",
        "# All of the parameters described at https://developer.nrel.gov/docs/solar/pvwatts/v8/\n",
        "params = {\n",
        "    'format': 'json',\n",
        "    'api_key': api_key,\n",
        "    \"azimuth\":0,\n",
        "\n",
        "    \"lat\": 52.91296,  # latitude Clifton Campus\n",
        "    \"lon\": -1.18461,  # longitude Clifton Campus\n",
        "#    \"lat\": -25.284266,  # latitude Egypt Dessert\n",
        "#    \"lon\": 137.419998,  # longitude Egypt Dessert\n",
        "#    \"lat\": -24.570000,  # latitude Deserts of Australia\n",
        "#    \"lon\": -1.18461,  # longitude Deserts of Australia\n",
        "    \"system_capacity\":4,\n",
        "    \"losses\":14,\n",
        "    \"array_type\":1,\n",
        "    \"module_type\":0,\n",
        "    \"gcr\":0.4,\n",
        "    \"dc_ac_ratio\":1.2,\n",
        "    \"inv_eff\":96.0,\n",
        "    \"radius\":0,\n",
        "    \"dataset\": \"nsrdb\",\n",
        "    \"tilt\": 10\n",
        "}\n",
        "\n",
        "# Send the API request\n",
        "response = requests.get(url, params=params)\n",
        "\n",
        "# Check if the request was successful (HTTP status code 200)\n",
        "if response.status_code == 200:\n",
        "    data = response.json()\n",
        "    # Process the response data as per your requirements\n",
        "    # For example, you can access the estimated energy production\n",
        "    ac_annual = data['outputs']['ac_annual']\n",
        "    ac_monthly = data['outputs']['ac_monthly']\n",
        "    print(f\"Estimated annual AC energy production: {ac_annual} kWh\")\n",
        "    print(f\"Estimated Monthly AC energy production: {ac_monthly} kWh\")\n",
        "else:\n",
        "    print(f\"Request failed with status code {response.status_code}\")\n"
      ]
    },
    {
      "cell_type": "code",
      "execution_count": null,
      "metadata": {
        "id": "WaA0U1RK9yvi"
      },
      "outputs": [],
      "source": [
        "data"
      ]
    },
    {
      "cell_type": "markdown",
      "metadata": {
        "id": "KJQ2Kz9x9yvi"
      },
      "source": [
        "### Plot the results"
      ]
    },
    {
      "cell_type": "code",
      "execution_count": null,
      "metadata": {
        "id": "qctzEkLV9yvi"
      },
      "outputs": [],
      "source": [
        "import matplotlib.pyplot as plt\n",
        "\n",
        "# Assuming `ac_monthly` is a list with the monthly AC energy production values you obtained from the API\n",
        "\n",
        "# Define the months for the x-axis\n",
        "months = ['Jan', 'Feb', 'Mar', 'Apr', 'May', 'Jun', 'Jul', 'Aug', 'Sep', 'Oct', 'Nov', 'Dec']\n",
        "\n",
        "# Create a bar chart\n",
        "plt.figure(figsize=(10, 6))  # Set the figure size\n",
        "plt.bar(months, ac_monthly, color='skyblue')  # Plot the data with skyblue color bars\n",
        "\n",
        "# Add title and labels\n",
        "plt.title('Estimated Monthly AC Energy Production')\n",
        "plt.xlabel('Month')\n",
        "plt.ylabel('AC Energy Production (kWh)')\n",
        "\n",
        "# Show the plot\n",
        "plt.tight_layout()\n",
        "plt.show()\n"
      ]
    }
  ],
  "metadata": {
    "kernelspec": {
      "display_name": "Python 3 (ipykernel)",
      "language": "python",
      "name": "python3"
    },
    "language_info": {
      "codemirror_mode": {
        "name": "ipython",
        "version": 3
      },
      "file_extension": ".py",
      "mimetype": "text/x-python",
      "name": "python",
      "nbconvert_exporter": "python",
      "pygments_lexer": "ipython3",
      "version": "3.12.1"
    },
    "colab": {
      "provenance": [],
      "include_colab_link": true
    }
  },
  "nbformat": 4,
  "nbformat_minor": 0
}